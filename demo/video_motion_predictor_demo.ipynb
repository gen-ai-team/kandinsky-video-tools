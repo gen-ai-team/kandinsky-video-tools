{
 "cells": [
  {
   "cell_type": "code",
   "execution_count": null,
   "id": "b44d640a",
   "metadata": {},
   "outputs": [],
   "source": [
    "import os\n",
    "import sys\n",
    "sys.path.insert(0, os.path.abspath(\"../\"))\n",
    "\n",
    "import glob\n",
    "\n",
    "from models import VideoMotionPredictor"
   ]
  },
  {
   "cell_type": "markdown",
   "id": "5c520dd8",
   "metadata": {
    "vscode": {
     "languageId": "plaintext"
    }
   },
   "source": [
    "#### Load HF model"
   ]
  },
  {
   "cell_type": "code",
   "execution_count": null,
   "id": "fa699e33",
   "metadata": {},
   "outputs": [],
   "source": [
    "model = VideoMotionPredictor.from_pretrained(\"ai-forever/kandinsky-video-motion-predictor\")\n",
    "model.to(\"cuda\");"
   ]
  },
  {
   "cell_type": "markdown",
   "id": "d239d30c",
   "metadata": {},
   "source": [
    "#### Run some examples"
   ]
  },
  {
   "cell_type": "code",
   "execution_count": null,
   "id": "12215212",
   "metadata": {},
   "outputs": [],
   "source": [
    "asset_dir = \"../assets/video_motion_predictor/examples/\"\n",
    "# backbone of the model is VideoMAEv2, it converts 16 frames to a single embedding\n",
    "# fps=4 means we embed up to 4 seconds of a video in a single tensor\n",
    "fps = 4.0\n",
    "# max_frames is defined by the size of positional embeddings and what model saw\n",
    "# during training, max size during training was 240, which is 1 min of video at 4 fps.\n",
    "max_frames = 240\n",
    "\n",
    "videos = glob.glob(os.path.join(asset_dir, \"**\", \"*.mp4\"), recursive=True)\n",
    "predictions = model.inference(videos, fps=fps, max_frames=max_frames, return_dict=True)\n",
    "\n",
    "chaotic = []\n",
    "slideshow = []\n",
    "\n",
    "for i, video in enumerate(videos):\n",
    "    print(video)\n",
    "    for k, v in predictions.items():\n",
    "        print(f\"{k}: {round(v[i], 3)}\")\n",
    "    print()"
   ]
  },
  {
   "cell_type": "markdown",
   "id": "23210f5f",
   "metadata": {},
   "source": [
    "### Rank video examples"
   ]
  },
  {
   "cell_type": "code",
   "execution_count": null,
   "id": "9471ef53",
   "metadata": {},
   "outputs": [],
   "source": [
    "def get_top_low(data_tuple, key, top_k=3):\n",
    "    sorted_data = sorted(data_tuple, key=lambda x: x[1][key], reverse=True)\n",
    "    low = [el[0] for el in sorted_data][-top_k:]\n",
    "    top = [el[0] for el in sorted_data][:top_k]\n",
    "    return top, low\n",
    "\n",
    "def format_list(lst):\n",
    "    lst_str = \"\".join([\"  \" + el + \"\\n\" for el in lst])\n",
    "    return lst_str\n",
    "\n",
    "\n",
    "prediction_list = []\n",
    "keys = list(predictions.keys())\n",
    "length = len(predictions[keys[0]])\n",
    "for i in range(length):\n",
    "    sample = {k: predictions[k][i] for k in keys}\n",
    "    prediction_list.append(sample)\n",
    "\n",
    "data_tuple = list(zip(videos, prediction_list))\n",
    "\n",
    "top_camera, low_camera = get_top_low(data_tuple, key='camera_movement_score')\n",
    "print(\"top camera:\\n\", format_list(top_camera), sep='')\n",
    "print(\"low camera:\\n\", format_list(low_camera), sep='')\n",
    "\n",
    "top_object, low_object = get_top_low(data_tuple, key='object_movement_score')\n",
    "print(\"top object:\\n\", format_list(top_object), sep='')\n",
    "print(\"low object:\\n\", format_list(low_object), sep='')\n",
    "\n",
    "top_dynamics, low_dynamics = get_top_low(data_tuple, key='dynamics_score')\n",
    "print(\"top dynamics:\\n\", format_list(top_dynamics), sep='')\n",
    "print(\"low dynamics:\\n\", format_list(low_dynamics), sep='')"
   ]
  }
 ],
 "metadata": {
  "kernelspec": {
   "display_name": "Python 3",
   "language": "python",
   "name": "python3"
  },
  "language_info": {
   "codemirror_mode": {
    "name": "ipython",
    "version": 3
   },
   "file_extension": ".py",
   "mimetype": "text/x-python",
   "name": "python",
   "nbconvert_exporter": "python",
   "pygments_lexer": "ipython3",
   "version": "3.11.13"
  }
 },
 "nbformat": 4,
 "nbformat_minor": 5
}
